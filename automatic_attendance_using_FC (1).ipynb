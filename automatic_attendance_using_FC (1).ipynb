{
 "cells": [
  {
   "cell_type": "code",
   "execution_count": null,
   "metadata": {},
   "outputs": [],
   "source": [
    "!pip install face_recognition"
   ]
  },
  {
   "cell_type": "markdown",
   "metadata": {},
   "source": [
    " Import All Libraries"
   ]
  },
  {
   "cell_type": "code",
   "execution_count": 1,
   "metadata": {
    "id": "lRB_CvmYMFLx"
   },
   "outputs": [],
   "source": [
    "import face_recognition\n",
    "import numpy as np\n",
    "import pandas as pd\n",
    "import cv2\n",
    "import os"
   ]
  },
  {
   "cell_type": "markdown",
   "metadata": {},
   "source": [
    "Create DataSet"
   ]
  },
  {
   "cell_type": "code",
   "execution_count": 2,
   "metadata": {},
   "outputs": [],
   "source": [
    "known_faces_encodings = {}\n",
    "name_list = []\n",
    "\n",
    "for i in os.listdir('E:/Arti/Projects/ML_projects/Automatic_Attendance/dataset'):\n",
    "    \n",
    "    img = cv2.imread(os.path.join('E:/Arti/Projects/ML_projects/Automatic_Attendance/dataset',i))\n",
    "    img = cv2.cvtColor(img,cv2.COLOR_BGR2RGB)\n",
    "    \n",
    "    name = i.split('.jpg')[0]\n",
    "    \n",
    "    img_encoding = face_recognition.face_encodings(img)\n",
    "    known_faces_encodings[name] = img_encoding\n",
    "    \n",
    "    name_list.append(name)"
   ]
  },
  {
   "cell_type": "code",
   "execution_count": 3,
   "metadata": {
    "id": "I2z8G1HO38Qu"
   },
   "outputs": [],
   "source": [
    "from scipy.spatial import distance"
   ]
  },
  {
   "cell_type": "code",
   "execution_count": 4,
   "metadata": {},
   "outputs": [],
   "source": [
    "name_present = []"
   ]
  },
  {
   "cell_type": "markdown",
   "metadata": {},
   "source": [
    "take unknown images and encode them"
   ]
  },
  {
   "cell_type": "code",
   "execution_count": 13,
   "metadata": {
    "id": "FvFiuQC6MhK2"
   },
   "outputs": [],
   "source": [
    "#load unknown or new image and perform face_encoding on that\n",
    "img = cv2.imread('E:/Arti/Projects/ML_projects/Automatic_Attendance/test/5.jpg')\n",
    "unknown_face = cv2.cvtColor(img,cv2.COLOR_BGR2RGB)\n",
    "\n",
    "unknown_faces_encodings = face_recognition.face_encodings(unknown_face)\n"
   ]
  },
  {
   "cell_type": "markdown",
   "metadata": {},
   "source": [
    "find euclidean distance between known and unknown images"
   ]
  },
  {
   "cell_type": "code",
   "execution_count": 14,
   "metadata": {
    "id": "FL6iS6TZqp2u"
   },
   "outputs": [],
   "source": [
    "min = 1\n",
    "s = 0 \n",
    "for i in range(len(known_faces_encodings)):\n",
    "    d = distance.euclidean(known_faces_encodings[name_list[i]],unknown_faces_encodings[0])\n",
    "    if d<min:\n",
    "        min = d\n",
    "        s = i\n",
    "\n",
    "#print(min,name[s])\n",
    "name_present.append(name_list[s])\n"
   ]
  },
  {
   "cell_type": "code",
   "execution_count": 15,
   "metadata": {
    "colab": {
     "base_uri": "https://localhost:8080/"
    },
    "id": "DlGxp6-4lRkU",
    "outputId": "c0542364-ecb5-433d-a8f9-4e1dca64c655"
   },
   "outputs": [
    {
     "data": {
      "text/plain": [
       "['narendra', 'vimal', 'akshay', 'arti', 'tarun']"
      ]
     },
     "execution_count": 15,
     "metadata": {},
     "output_type": "execute_result"
    }
   ],
   "source": [
    "name_present"
   ]
  },
  {
   "cell_type": "code",
   "execution_count": 16,
   "metadata": {
    "colab": {
     "base_uri": "https://localhost:8080/"
    },
    "id": "DKSUlwTMVkNw",
    "outputId": "be09b04c-47db-4f48-a022-edd413554df8"
   },
   "outputs": [
    {
     "name": "stdout",
     "output_type": "stream",
     "text": [
      "{'akshay': 'P', 'amitabh': 'A', 'arti': 'P', 'lata': 'A', 'mukesh': 'A', 'narendra': 'P', 'sandeep': 'A', 'savita': 'A', 'tarun': 'P', 'vimal': 'P'}\n"
     ]
    }
   ],
   "source": [
    "d = {'akshay':\"A\",\n",
    " 'amitabh':\"A\",\n",
    " 'arti':\"A\",\n",
    " 'lata':\"A\",\n",
    "'mukesh':'A',\n",
    " 'narendra':\"A\",\n",
    " 'sandeep':\"A\",\n",
    " 'savita':\"A\",\n",
    " 'tarun':\"A\",\n",
    " 'vimal':\"A\"}\n",
    "for i in sorted(name_present):\n",
    "    d[i]=\"P\"\n",
    "\n",
    "print(d)"
   ]
  },
  {
   "cell_type": "markdown",
   "metadata": {},
   "source": [
    "Create csv file for marking attendance"
   ]
  },
  {
   "cell_type": "code",
   "execution_count": 17,
   "metadata": {
    "id": "3Y7fEF5KTBb0"
   },
   "outputs": [],
   "source": [
    "dic = {\"Name\":sorted(name_list)}\n",
    "df = pd.DataFrame(dic)\n",
    "df.to_csv(\"attendance.csv\",index=False)"
   ]
  },
  {
   "cell_type": "code",
   "execution_count": 18,
   "metadata": {
    "id": "SOskrD19TvYu"
   },
   "outputs": [],
   "source": [
    "data = pd.read_csv(\"attendance.csv\")"
   ]
  },
  {
   "cell_type": "code",
   "execution_count": 19,
   "metadata": {
    "id": "G4pZtNv8TiNt"
   },
   "outputs": [
    {
     "data": {
      "text/html": [
       "<div>\n",
       "<style scoped>\n",
       "    .dataframe tbody tr th:only-of-type {\n",
       "        vertical-align: middle;\n",
       "    }\n",
       "\n",
       "    .dataframe tbody tr th {\n",
       "        vertical-align: top;\n",
       "    }\n",
       "\n",
       "    .dataframe thead th {\n",
       "        text-align: right;\n",
       "    }\n",
       "</style>\n",
       "<table border=\"1\" class=\"dataframe\">\n",
       "  <thead>\n",
       "    <tr style=\"text-align: right;\">\n",
       "      <th></th>\n",
       "      <th>Name</th>\n",
       "    </tr>\n",
       "  </thead>\n",
       "  <tbody>\n",
       "    <tr>\n",
       "      <th>0</th>\n",
       "      <td>akshay</td>\n",
       "    </tr>\n",
       "    <tr>\n",
       "      <th>1</th>\n",
       "      <td>amitabh</td>\n",
       "    </tr>\n",
       "    <tr>\n",
       "      <th>2</th>\n",
       "      <td>arti</td>\n",
       "    </tr>\n",
       "    <tr>\n",
       "      <th>3</th>\n",
       "      <td>lata</td>\n",
       "    </tr>\n",
       "    <tr>\n",
       "      <th>4</th>\n",
       "      <td>mukesh</td>\n",
       "    </tr>\n",
       "    <tr>\n",
       "      <th>5</th>\n",
       "      <td>narendra</td>\n",
       "    </tr>\n",
       "    <tr>\n",
       "      <th>6</th>\n",
       "      <td>sandeep</td>\n",
       "    </tr>\n",
       "    <tr>\n",
       "      <th>7</th>\n",
       "      <td>savita</td>\n",
       "    </tr>\n",
       "    <tr>\n",
       "      <th>8</th>\n",
       "      <td>tarun</td>\n",
       "    </tr>\n",
       "    <tr>\n",
       "      <th>9</th>\n",
       "      <td>vimal</td>\n",
       "    </tr>\n",
       "  </tbody>\n",
       "</table>\n",
       "</div>"
      ],
      "text/plain": [
       "       Name\n",
       "0    akshay\n",
       "1   amitabh\n",
       "2      arti\n",
       "3      lata\n",
       "4    mukesh\n",
       "5  narendra\n",
       "6   sandeep\n",
       "7    savita\n",
       "8     tarun\n",
       "9     vimal"
      ]
     },
     "execution_count": 19,
     "metadata": {},
     "output_type": "execute_result"
    }
   ],
   "source": [
    "data"
   ]
  },
  {
   "cell_type": "markdown",
   "metadata": {},
   "source": [
    "mark attendance for a date"
   ]
  },
  {
   "cell_type": "code",
   "execution_count": 20,
   "metadata": {
    "id": "-CkVmd9rT7Nh"
   },
   "outputs": [],
   "source": [
    "df[\"9-05-2021\"] = d.values()"
   ]
  },
  {
   "cell_type": "code",
   "execution_count": 21,
   "metadata": {
    "id": "IM4gh1ubTBgn"
   },
   "outputs": [],
   "source": [
    " df.to_csv(\"attendance.csv\",index=False)"
   ]
  },
  {
   "cell_type": "code",
   "execution_count": 22,
   "metadata": {
    "id": "DNFlHo4vTBk5"
   },
   "outputs": [],
   "source": [
    "data = pd.read_csv(\"attendance.csv\")"
   ]
  },
  {
   "cell_type": "code",
   "execution_count": 23,
   "metadata": {
    "colab": {
     "base_uri": "https://localhost:8080/",
     "height": 343
    },
    "id": "QrTZu3N2UM2y",
    "outputId": "e51b93b7-aaa4-431f-ebe7-31599ed33c98"
   },
   "outputs": [
    {
     "data": {
      "text/html": [
       "<div>\n",
       "<style scoped>\n",
       "    .dataframe tbody tr th:only-of-type {\n",
       "        vertical-align: middle;\n",
       "    }\n",
       "\n",
       "    .dataframe tbody tr th {\n",
       "        vertical-align: top;\n",
       "    }\n",
       "\n",
       "    .dataframe thead th {\n",
       "        text-align: right;\n",
       "    }\n",
       "</style>\n",
       "<table border=\"1\" class=\"dataframe\">\n",
       "  <thead>\n",
       "    <tr style=\"text-align: right;\">\n",
       "      <th></th>\n",
       "      <th>Name</th>\n",
       "      <th>9-05-2021</th>\n",
       "    </tr>\n",
       "  </thead>\n",
       "  <tbody>\n",
       "    <tr>\n",
       "      <th>0</th>\n",
       "      <td>akshay</td>\n",
       "      <td>P</td>\n",
       "    </tr>\n",
       "    <tr>\n",
       "      <th>1</th>\n",
       "      <td>amitabh</td>\n",
       "      <td>A</td>\n",
       "    </tr>\n",
       "    <tr>\n",
       "      <th>2</th>\n",
       "      <td>arti</td>\n",
       "      <td>P</td>\n",
       "    </tr>\n",
       "    <tr>\n",
       "      <th>3</th>\n",
       "      <td>lata</td>\n",
       "      <td>A</td>\n",
       "    </tr>\n",
       "    <tr>\n",
       "      <th>4</th>\n",
       "      <td>mukesh</td>\n",
       "      <td>A</td>\n",
       "    </tr>\n",
       "    <tr>\n",
       "      <th>5</th>\n",
       "      <td>narendra</td>\n",
       "      <td>P</td>\n",
       "    </tr>\n",
       "    <tr>\n",
       "      <th>6</th>\n",
       "      <td>sandeep</td>\n",
       "      <td>A</td>\n",
       "    </tr>\n",
       "    <tr>\n",
       "      <th>7</th>\n",
       "      <td>savita</td>\n",
       "      <td>A</td>\n",
       "    </tr>\n",
       "    <tr>\n",
       "      <th>8</th>\n",
       "      <td>tarun</td>\n",
       "      <td>P</td>\n",
       "    </tr>\n",
       "    <tr>\n",
       "      <th>9</th>\n",
       "      <td>vimal</td>\n",
       "      <td>P</td>\n",
       "    </tr>\n",
       "  </tbody>\n",
       "</table>\n",
       "</div>"
      ],
      "text/plain": [
       "       Name 9-05-2021\n",
       "0    akshay         P\n",
       "1   amitabh         A\n",
       "2      arti         P\n",
       "3      lata         A\n",
       "4    mukesh         A\n",
       "5  narendra         P\n",
       "6   sandeep         A\n",
       "7    savita         A\n",
       "8     tarun         P\n",
       "9     vimal         P"
      ]
     },
     "execution_count": 23,
     "metadata": {},
     "output_type": "execute_result"
    }
   ],
   "source": [
    "data"
   ]
  }
 ],
 "metadata": {
  "accelerator": "GPU",
  "colab": {
   "name": "automatic_attendance_using_FC.ipynb",
   "provenance": []
  },
  "kernelspec": {
   "display_name": "Python 3",
   "language": "python",
   "name": "python3"
  },
  "language_info": {
   "codemirror_mode": {
    "name": "ipython",
    "version": 3
   },
   "file_extension": ".py",
   "mimetype": "text/x-python",
   "name": "python",
   "nbconvert_exporter": "python",
   "pygments_lexer": "ipython3",
   "version": "3.6.12"
  }
 },
 "nbformat": 4,
 "nbformat_minor": 1
}
