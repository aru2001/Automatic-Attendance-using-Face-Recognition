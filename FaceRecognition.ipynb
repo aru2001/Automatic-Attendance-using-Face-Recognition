{
  "nbformat": 4,
  "nbformat_minor": 0,
  "metadata": {
    "colab": {
      "name": "FaceRecognition.ipynb",
      "provenance": [],
      "include_colab_link": true
    },
    "kernelspec": {
      "name": "python3",
      "display_name": "Python 3"
    },
    "accelerator": "GPU"
  },
  "cells": [
    {
      "cell_type": "markdown",
      "metadata": {
        "id": "view-in-github",
        "colab_type": "text"
      },
      "source": [
        "<a href=\"https://colab.research.google.com/github/aru2001/Face-Recognition/blob/main/FaceRecognition.ipynb\" target=\"_parent\"><img src=\"https://colab.research.google.com/assets/colab-badge.svg\" alt=\"Open In Colab\"/></a>"
      ]
    },
    {
      "cell_type": "code",
      "metadata": {
        "id": "QGY5b1NMLFPI",
        "colab": {
          "base_uri": "https://localhost:8080/",
          "height": 34
        },
        "outputId": "4401d884-dafb-4cad-f00d-86e1ee9ba6d8"
      },
      "source": [
        "#to use google drive\n",
        "from google.colab import drive\n",
        "drive.mount('/content/drive')"
      ],
      "execution_count": null,
      "outputs": [
        {
          "output_type": "stream",
          "text": [
            "Drive already mounted at /content/drive; to attempt to forcibly remount, call drive.mount(\"/content/drive\", force_remount=True).\n"
          ],
          "name": "stdout"
        }
      ]
    },
    {
      "cell_type": "code",
      "metadata": {
        "id": "HtD0_aLWLlXf",
        "colab": {
          "base_uri": "https://localhost:8080/",
          "height": 34
        },
        "outputId": "5bc2ed6f-6c1f-4801-a78c-9d992cfb447a"
      },
      "source": [
        "#path of google drive in my case drive path is following in your case it may be change\n",
        "cd \"drive/My Drive/machine learning/Face_reco\""
      ],
      "execution_count": null,
      "outputs": [
        {
          "output_type": "stream",
          "text": [
            "/content/drive/My Drive/machine learning/Face_reco\n"
          ],
          "name": "stdout"
        }
      ]
    },
    {
      "cell_type": "code",
      "metadata": {
        "id": "Pc6i2AeUL0Tb",
        "colab": {
          "base_uri": "https://localhost:8080/",
          "height": 34
        },
        "outputId": "464b19f8-140e-4b90-9d5e-c5a78f3d0594"
      },
      "source": [
        "#showing working directory\n",
        "!pwd"
      ],
      "execution_count": null,
      "outputs": [
        {
          "output_type": "stream",
          "text": [
            "/content/drive/My Drive/machine learning/Face_reco\n"
          ],
          "name": "stdout"
        }
      ]
    },
    {
      "cell_type": "code",
      "metadata": {
        "id": "bfeQ3f5SL68T",
        "colab": {
          "base_uri": "https://localhost:8080/",
          "height": 306
        },
        "outputId": "14ff67c8-ea73-470e-95a4-2b5ec990a936"
      },
      "source": [
        "#use to install face_recognition module\n",
        "!pip install face_recognition"
      ],
      "execution_count": null,
      "outputs": [
        {
          "output_type": "stream",
          "text": [
            "Collecting face_recognition\n",
            "  Downloading https://files.pythonhosted.org/packages/1e/95/f6c9330f54ab07bfa032bf3715c12455a381083125d8880c43cbe76bb3d0/face_recognition-1.3.0-py2.py3-none-any.whl\n",
            "Requirement already satisfied: dlib>=19.7 in /usr/local/lib/python3.6/dist-packages (from face_recognition) (19.18.0)\n",
            "Requirement already satisfied: Click>=6.0 in /usr/local/lib/python3.6/dist-packages (from face_recognition) (7.1.2)\n",
            "Requirement already satisfied: Pillow in /usr/local/lib/python3.6/dist-packages (from face_recognition) (7.0.0)\n",
            "Collecting face-recognition-models>=0.3.0\n",
            "\u001b[?25l  Downloading https://files.pythonhosted.org/packages/cf/3b/4fd8c534f6c0d1b80ce0973d01331525538045084c73c153ee6df20224cf/face_recognition_models-0.3.0.tar.gz (100.1MB)\n",
            "\u001b[K     |████████████████████████████████| 100.2MB 42kB/s \n",
            "\u001b[?25hRequirement already satisfied: numpy in /usr/local/lib/python3.6/dist-packages (from face_recognition) (1.18.5)\n",
            "Building wheels for collected packages: face-recognition-models\n",
            "  Building wheel for face-recognition-models (setup.py) ... \u001b[?25l\u001b[?25hdone\n",
            "  Created wheel for face-recognition-models: filename=face_recognition_models-0.3.0-py2.py3-none-any.whl size=100566172 sha256=9adeb30331dc2a1bc2099fcd2b2df98a4807610bf7063ca283702d60bc1ce432\n",
            "  Stored in directory: /root/.cache/pip/wheels/d2/99/18/59c6c8f01e39810415c0e63f5bede7d83dfb0ffc039865465f\n",
            "Successfully built face-recognition-models\n",
            "Installing collected packages: face-recognition-models, face-recognition\n",
            "Successfully installed face-recognition-1.3.0 face-recognition-models-0.3.0\n"
          ],
          "name": "stdout"
        }
      ]
    },
    {
      "cell_type": "code",
      "metadata": {
        "id": "lRB_CvmYMFLx"
      },
      "source": [
        "import face_recognition\n",
        "import cv2\n",
        "import numpy as np"
      ],
      "execution_count": null,
      "outputs": []
    },
    {
      "cell_type": "code",
      "metadata": {
        "id": "hI-Fqml5MJV1"
      },
      "source": [
        "#load all image of test1 folder in train_data list\n",
        "train_data=[]\n",
        "for i in range(1,11):\n",
        "  image = cv2.imread('test1/'+str(i)+'.jpg')\n",
        "  img = cv2.cvtColor(image,cv2.COLOR_BGR2RGB)\n",
        "  train_data.append(img)"
      ],
      "execution_count": null,
      "outputs": []
    },
    {
      "cell_type": "code",
      "metadata": {
        "id": "TMdiImOTMcWR"
      },
      "source": [
        "#perform face_encoding on all images\n",
        "known_faces_encodings = []\n",
        "for i in train_data:\n",
        "  img_encoding = face_recognition.face_encodings(i)[0]\n",
        "  known_faces_encodings.append(img_encoding)"
      ],
      "execution_count": null,
      "outputs": []
    },
    {
      "cell_type": "code",
      "metadata": {
        "id": "FvFiuQC6MhK2"
      },
      "source": [
        "#load unknown or new image and perform face_encoding on that\n",
        "image = cv2.imread('1.jpg')\n",
        "unknown_face = cv2.cvtColor(image,cv2.COLOR_BGR2RGB)\n",
        "\n",
        "unknown_faces_encodings = face_recognition.face_encodings(unknown_face)\n"
      ],
      "execution_count": null,
      "outputs": []
    },
    {
      "cell_type": "code",
      "metadata": {
        "id": "5tO5SkeJMlMc",
        "colab": {
          "base_uri": "https://localhost:8080/",
          "height": 34
        },
        "outputId": "48460f60-1d58-49e5-e3b7-00400154c5de"
      },
      "source": [
        "from scipy.spatial import distance\n",
        "\n",
        "result = []\n",
        "#find euclidean distance between encodings of 2 images\n",
        "for unknown_encoding in unknown_faces_encodings:\n",
        "  for known_encoding in known_faces_encodings:\n",
        "    d = distance.euclidean(known_encoding,unknown_encoding)\n",
        "    result.append(d)\n",
        "\n",
        "  thresold = 0.6\n",
        "  result = np.array(result) <= thresold\n",
        "\n",
        "\n",
        "  name = \"unknown\"\n",
        "\n",
        "  if result[0]:\n",
        "    name = \"arti\"\n",
        "  elif result[1]:\n",
        "    name = \"tarun\"\n",
        "  elif result[2]:\n",
        "    name = \"savita\"\n",
        "  elif result[3]:\n",
        "    name = \"modi\"\n",
        "  elif result[4]:\n",
        "    name = \"ambani\"\n",
        "  elif result[5]:\n",
        "    name = \"lata\"\n",
        "  elif result[6]:\n",
        "    name = \"sandeep\"\n",
        "  elif result[7]:\n",
        "    name = \"vimal\"\n",
        "  elif result[8]:\n",
        "    name = \"amitabh\"\n",
        "  elif result[9]:\n",
        "    name = \"akshay\"\n",
        " \n",
        "  \n",
        "  print(\"name = {} in photo\".format(name))\n",
        "# print(result)"
      ],
      "execution_count": null,
      "outputs": [
        {
          "output_type": "stream",
          "text": [
            "name = modi in photo\n"
          ],
          "name": "stdout"
        }
      ]
    }
  ]
}