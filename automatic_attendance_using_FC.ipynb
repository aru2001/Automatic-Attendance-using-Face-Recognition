{
  "nbformat": 4,
  "nbformat_minor": 0,
  "metadata": {
    "colab": {
      "name": "automatic_attendance_using_FC.ipynb",
      "provenance": [],
      "include_colab_link": true
    },
    "kernelspec": {
      "name": "python3",
      "display_name": "Python 3"
    },
    "accelerator": "GPU"
  },
  "cells": [
    {
      "cell_type": "markdown",
      "metadata": {
        "id": "view-in-github",
        "colab_type": "text"
      },
      "source": [
        "<a href=\"https://colab.research.google.com/github/aru2001/Face-Recognition/blob/main/automatic_attendance_using_FC.ipynb\" target=\"_parent\"><img src=\"https://colab.research.google.com/assets/colab-badge.svg\" alt=\"Open In Colab\"/></a>"
      ]
    },
    {
      "cell_type": "code",
      "metadata": {
        "id": "QGY5b1NMLFPI",
        "colab": {
          "base_uri": "https://localhost:8080/"
        },
        "outputId": "f49833a6-84ce-4e66-8d07-f8d81c43fad7"
      },
      "source": [
        "#to use google drive\n",
        "from google.colab import drive\n",
        "drive.mount('/content/drive')"
      ],
      "execution_count": 1,
      "outputs": [
        {
          "output_type": "stream",
          "text": [
            "Mounted at /content/drive\n"
          ],
          "name": "stdout"
        }
      ]
    },
    {
      "cell_type": "code",
      "metadata": {
        "id": "HtD0_aLWLlXf",
        "colab": {
          "base_uri": "https://localhost:8080/"
        },
        "outputId": "5a827222-96be-423d-a38f-f4f5ca56f74f"
      },
      "source": [
        "#path of google drive in my case drive path is following in your case it may be change\n",
        "%cd \"drive/My Drive/machine learning/Face_reco\""
      ],
      "execution_count": 2,
      "outputs": [
        {
          "output_type": "stream",
          "text": [
            "/content/drive/My Drive/machine learning/Face_reco\n"
          ],
          "name": "stdout"
        }
      ]
    },
    {
      "cell_type": "code",
      "metadata": {
        "id": "Pc6i2AeUL0Tb",
        "colab": {
          "base_uri": "https://localhost:8080/"
        },
        "outputId": "74f16174-5438-4ca2-8896-bc49ae8bf899"
      },
      "source": [
        "#showing working directory\n",
        "!pwd"
      ],
      "execution_count": 3,
      "outputs": [
        {
          "output_type": "stream",
          "text": [
            "/content/drive/My Drive/machine learning/Face_reco\n"
          ],
          "name": "stdout"
        }
      ]
    },
    {
      "cell_type": "code",
      "metadata": {
        "id": "bfeQ3f5SL68T",
        "colab": {
          "base_uri": "https://localhost:8080/"
        },
        "outputId": "ba81a6d7-92e5-4ac1-ea1f-4685ef89a4c5"
      },
      "source": [
        "#use to install face_recognition module\n",
        "!pip install face_recognition"
      ],
      "execution_count": 4,
      "outputs": [
        {
          "output_type": "stream",
          "text": [
            "Collecting face_recognition\n",
            "  Downloading https://files.pythonhosted.org/packages/1e/95/f6c9330f54ab07bfa032bf3715c12455a381083125d8880c43cbe76bb3d0/face_recognition-1.3.0-py2.py3-none-any.whl\n",
            "Requirement already satisfied: numpy in /usr/local/lib/python3.7/dist-packages (from face_recognition) (1.19.5)\n",
            "Collecting face-recognition-models>=0.3.0\n",
            "\u001b[?25l  Downloading https://files.pythonhosted.org/packages/cf/3b/4fd8c534f6c0d1b80ce0973d01331525538045084c73c153ee6df20224cf/face_recognition_models-0.3.0.tar.gz (100.1MB)\n",
            "\u001b[K     |████████████████████████████████| 100.2MB 39kB/s \n",
            "\u001b[?25hRequirement already satisfied: Click>=6.0 in /usr/local/lib/python3.7/dist-packages (from face_recognition) (7.1.2)\n",
            "Requirement already satisfied: dlib>=19.7 in /usr/local/lib/python3.7/dist-packages (from face_recognition) (19.18.0)\n",
            "Requirement already satisfied: Pillow in /usr/local/lib/python3.7/dist-packages (from face_recognition) (7.1.2)\n",
            "Building wheels for collected packages: face-recognition-models\n",
            "  Building wheel for face-recognition-models (setup.py) ... \u001b[?25l\u001b[?25hdone\n",
            "  Created wheel for face-recognition-models: filename=face_recognition_models-0.3.0-py2.py3-none-any.whl size=100566173 sha256=362237e046f035660cf98186d6234b606a2d8dcd9e71a407ede3fbcdca185941\n",
            "  Stored in directory: /root/.cache/pip/wheels/d2/99/18/59c6c8f01e39810415c0e63f5bede7d83dfb0ffc039865465f\n",
            "Successfully built face-recognition-models\n",
            "Installing collected packages: face-recognition-models, face-recognition\n",
            "Successfully installed face-recognition-1.3.0 face-recognition-models-0.3.0\n"
          ],
          "name": "stdout"
        }
      ]
    },
    {
      "cell_type": "code",
      "metadata": {
        "id": "lRB_CvmYMFLx"
      },
      "source": [
        "import face_recognition\n",
        "import cv2\n",
        "import numpy as np"
      ],
      "execution_count": 5,
      "outputs": []
    },
    {
      "cell_type": "code",
      "metadata": {
        "id": "rHRsz1WYpndG"
      },
      "source": [
        "name = []\n",
        "name.append(\"tarun\")\n",
        "name.append(\"arti\")\n",
        "name.append(\"savita\")\n",
        "name.append(\"modi\")\n",
        "name.append(\"amabani\")\n",
        "name.append(\"lata\")\n",
        "name.append(\"sandeep\")\n",
        "name.append(\"vimal\")\n",
        "name.append(\"amitabh\")\n",
        "name.append(\"akshay\")"
      ],
      "execution_count": 6,
      "outputs": []
    },
    {
      "cell_type": "code",
      "metadata": {
        "id": "hI-Fqml5MJV1"
      },
      "source": [
        "#load all image of test1 folder in train_data list\n",
        "known_faces_encodings = {}\n",
        "#train_data=[]\n",
        "for i in range(1,11):\n",
        "  image = cv2.imread('test1/'+str(i)+'.jpg')\n",
        "  img = cv2.cvtColor(image,cv2.COLOR_BGR2RGB)\n",
        "  #train_data.append(img)\n",
        "  img_encoding = face_recognition.face_encodings(img)[0]\n",
        "  known_faces_encodings[name[i-1]] = img_encoding\n"
      ],
      "execution_count": 13,
      "outputs": []
    },
    {
      "cell_type": "code",
      "metadata": {
        "id": "TMdiImOTMcWR"
      },
      "source": [
        "#perform face_encoding on all images\n",
        "for i in zip(name,)\n",
        "known_faces_encodings = []\n",
        "name = []\n",
        "name.append(\"tarun\")\n",
        "name.append(\"arti\")\n",
        "name.append(\"savita\")\n",
        "name.append(\"modi\")\n",
        "name.append(\"amabani\")\n",
        "name.append(\"lata\")\n",
        "name.append(\"sandeep\")\n",
        "name.append(\"vimal\")\n",
        "name.append(\"amitabh\")\n",
        "name.append(\"akshay\")\n",
        "for i in range(len(train_data)):\n",
        "  img_encoding = face_recognition.face_encodings(train_data[i])[0]\n",
        "  known_faces_encodings.append([img_encoding,name[i]])\n"
      ],
      "execution_count": null,
      "outputs": []
    },
    {
      "cell_type": "code",
      "metadata": {
        "id": "i-llcnsOD3aL"
      },
      "source": [
        "# def add_face(img,name):\n",
        "#   img_encoding = face_recognition.face_encodings(img)[0]\n",
        "#   known_faces_encodings.append([img_encoding,name])\n",
        "\n"
      ],
      "execution_count": null,
      "outputs": []
    },
    {
      "cell_type": "code",
      "metadata": {
        "id": "I2z8G1HO38Qu"
      },
      "source": [
        "from scipy.spatial import distance"
      ],
      "execution_count": 16,
      "outputs": []
    },
    {
      "cell_type": "code",
      "metadata": {
        "id": "J32NNeFdVwmD"
      },
      "source": [
        "name_present = []"
      ],
      "execution_count": 72,
      "outputs": []
    },
    {
      "cell_type": "code",
      "metadata": {
        "id": "FvFiuQC6MhK2"
      },
      "source": [
        "#load unknown or new image and perform face_encoding on that\n",
        "image = cv2.imread('10.jpg')\n",
        "unknown_face = cv2.cvtColor(image,cv2.COLOR_BGR2RGB)\n",
        "\n",
        "unknown_faces_encodings = face_recognition.face_encodings(unknown_face)\n"
      ],
      "execution_count": 79,
      "outputs": []
    },
    {
      "cell_type": "code",
      "metadata": {
        "id": "FL6iS6TZqp2u"
      },
      "source": [
        "min = 1\n",
        "s = 0 \n",
        "for i in range(len(known_faces_encodings)):\n",
        "  d = distance.euclidean(known_faces_encodings[name[i]],unknown_faces_encodings[0])\n",
        "  if d<min:\n",
        "    min = d\n",
        "    s = i\n",
        "\n",
        "#print(min,name[s])\n",
        "name_present.append(name[s])\n"
      ],
      "execution_count": 80,
      "outputs": []
    },
    {
      "cell_type": "code",
      "metadata": {
        "id": "5tO5SkeJMlMc",
        "colab": {
          "base_uri": "https://localhost:8080/"
        },
        "outputId": "d934038a-dcbd-449f-f037-64a5662ab702"
      },
      "source": [
        "\n",
        "#find euclidean distance between encodings of 2 images\n",
        "# for unknown_encoding in unknown_faces_encodings:\n",
        "#   for i in range(len(known_faces_encodings)):\n",
        "#     d = distance.euclidean(known_faces_encodings[i][0],unknown_encoding)\n",
        "#     #print(d)\n",
        "#     thresold = 0.6\n",
        "#     if d <= thresold:    \n",
        "#       name_present.append(known_faces_encodings[i][1])\n",
        "      \n",
        "\n",
        "\n",
        "\n",
        "    \n"
      ],
      "execution_count": null,
      "outputs": [
        {
          "output_type": "stream",
          "text": [
            "0.5409917632405645\n",
            "0.43142127885544956\n",
            "0.2607909941491852\n",
            "0.7878290325687446\n",
            "0.6577069425980109\n",
            "0.5413191088686339\n",
            "0.8895588940332186\n",
            "0.7357546010476882\n",
            "0.7998520151854658\n",
            "0.854172898587666\n",
            "0.5815035798743593\n",
            "0.330953186585141\n",
            "0.46258724541612883\n",
            "0.7973638299346991\n",
            "0.6446420645146826\n",
            "0.5755983859253538\n",
            "0.8560881398584403\n",
            "0.7212709852100102\n",
            "0.8338904064474079\n",
            "0.8442779238127772\n"
          ],
          "name": "stdout"
        }
      ]
    },
    {
      "cell_type": "code",
      "metadata": {
        "colab": {
          "base_uri": "https://localhost:8080/"
        },
        "id": "DlGxp6-4lRkU",
        "outputId": "c0542364-ecb5-433d-a8f9-4e1dca64c655"
      },
      "source": [
        "name_present"
      ],
      "execution_count": 81,
      "outputs": [
        {
          "output_type": "execute_result",
          "data": {
            "text/plain": [
              "['modi', 'akshay', 'savita', 'sandeep']"
            ]
          },
          "metadata": {
            "tags": []
          },
          "execution_count": 81
        }
      ]
    },
    {
      "cell_type": "code",
      "metadata": {
        "colab": {
          "base_uri": "https://localhost:8080/"
        },
        "id": "DKSUlwTMVkNw",
        "outputId": "be09b04c-47db-4f48-a022-edd413554df8"
      },
      "source": [
        "#attend = []\n",
        "d = {'akshay':\"A\",\n",
        " 'amabani':\"A\",\n",
        " 'amitabh':\"A\",\n",
        " 'arti':\"A\",\n",
        " 'lata':\"A\",\n",
        " 'modi':\"A\",\n",
        " 'sandeep':\"A\",\n",
        " 'savita':\"A\",\n",
        " 'tarun':\"A\",\n",
        " 'vimal':\"A\"}\n",
        "for i in sorted(name_present):\n",
        "  d[i]=\"P\"\n",
        "# for i in d.values():\n",
        "#   print(i)\n",
        "print(d.values())\n",
        "# for i in sorted(name):\n",
        "#   for j in sorted(result):\n",
        "#     if i == j:\n",
        "#       attend.append([\"P\"])\n",
        "#     else:\n",
        "#       attend.append([\"P\"])"
      ],
      "execution_count": 106,
      "outputs": [
        {
          "output_type": "stream",
          "text": [
            "dict_values(['P', 'A', 'A', 'A', 'A', 'P', 'P', 'P', 'A', 'A'])\n"
          ],
          "name": "stdout"
        }
      ]
    },
    {
      "cell_type": "code",
      "metadata": {
        "id": "eIP0aEJHJdJs"
      },
      "source": [
        "# test = cv2.imread(\"shimli.jpg\")\n",
        "# test = cv2.cvtColor(test,cv2.COLOR_BGR2RGB)\n",
        "# add_face(test,\"shimali\")"
      ],
      "execution_count": null,
      "outputs": []
    },
    {
      "cell_type": "code",
      "metadata": {
        "id": "3Y7fEF5KTBb0"
      },
      "source": [
        "import pandas as pd\n",
        "dic = {\"Name\":sorted(name)}\n",
        "df = pd.DataFrame(dic)\n",
        "df.to_csv(\"attendance.csv\",index=False)"
      ],
      "execution_count": 99,
      "outputs": []
    },
    {
      "cell_type": "code",
      "metadata": {
        "id": "SOskrD19TvYu"
      },
      "source": [
        ""
      ],
      "execution_count": null,
      "outputs": []
    },
    {
      "cell_type": "code",
      "metadata": {
        "id": "G4pZtNv8TiNt"
      },
      "source": [
        ""
      ],
      "execution_count": null,
      "outputs": []
    },
    {
      "cell_type": "code",
      "metadata": {
        "id": "-CkVmd9rT7Nh"
      },
      "source": [
        "df[\"7-05-2021\"] = d.values()"
      ],
      "execution_count": 107,
      "outputs": []
    },
    {
      "cell_type": "code",
      "metadata": {
        "id": "IM4gh1ubTBgn"
      },
      "source": [
        " df.to_csv(\"attendance.csv\",index=False)"
      ],
      "execution_count": 108,
      "outputs": []
    },
    {
      "cell_type": "code",
      "metadata": {
        "id": "DNFlHo4vTBk5"
      },
      "source": [
        "data = pd.read_csv(\"attendance.csv\")"
      ],
      "execution_count": 109,
      "outputs": []
    },
    {
      "cell_type": "code",
      "metadata": {
        "colab": {
          "base_uri": "https://localhost:8080/",
          "height": 343
        },
        "id": "QrTZu3N2UM2y",
        "outputId": "e51b93b7-aaa4-431f-ebe7-31599ed33c98"
      },
      "source": [
        "data"
      ],
      "execution_count": 110,
      "outputs": [
        {
          "output_type": "execute_result",
          "data": {
            "text/html": [
              "<div>\n",
              "<style scoped>\n",
              "    .dataframe tbody tr th:only-of-type {\n",
              "        vertical-align: middle;\n",
              "    }\n",
              "\n",
              "    .dataframe tbody tr th {\n",
              "        vertical-align: top;\n",
              "    }\n",
              "\n",
              "    .dataframe thead th {\n",
              "        text-align: right;\n",
              "    }\n",
              "</style>\n",
              "<table border=\"1\" class=\"dataframe\">\n",
              "  <thead>\n",
              "    <tr style=\"text-align: right;\">\n",
              "      <th></th>\n",
              "      <th>Name</th>\n",
              "      <th>7-05-2021</th>\n",
              "    </tr>\n",
              "  </thead>\n",
              "  <tbody>\n",
              "    <tr>\n",
              "      <th>0</th>\n",
              "      <td>akshay</td>\n",
              "      <td>P</td>\n",
              "    </tr>\n",
              "    <tr>\n",
              "      <th>1</th>\n",
              "      <td>amabani</td>\n",
              "      <td>A</td>\n",
              "    </tr>\n",
              "    <tr>\n",
              "      <th>2</th>\n",
              "      <td>amitabh</td>\n",
              "      <td>A</td>\n",
              "    </tr>\n",
              "    <tr>\n",
              "      <th>3</th>\n",
              "      <td>arti</td>\n",
              "      <td>A</td>\n",
              "    </tr>\n",
              "    <tr>\n",
              "      <th>4</th>\n",
              "      <td>lata</td>\n",
              "      <td>A</td>\n",
              "    </tr>\n",
              "    <tr>\n",
              "      <th>5</th>\n",
              "      <td>modi</td>\n",
              "      <td>P</td>\n",
              "    </tr>\n",
              "    <tr>\n",
              "      <th>6</th>\n",
              "      <td>sandeep</td>\n",
              "      <td>P</td>\n",
              "    </tr>\n",
              "    <tr>\n",
              "      <th>7</th>\n",
              "      <td>savita</td>\n",
              "      <td>P</td>\n",
              "    </tr>\n",
              "    <tr>\n",
              "      <th>8</th>\n",
              "      <td>tarun</td>\n",
              "      <td>A</td>\n",
              "    </tr>\n",
              "    <tr>\n",
              "      <th>9</th>\n",
              "      <td>vimal</td>\n",
              "      <td>A</td>\n",
              "    </tr>\n",
              "  </tbody>\n",
              "</table>\n",
              "</div>"
            ],
            "text/plain": [
              "      Name 7-05-2021\n",
              "0   akshay         P\n",
              "1  amabani         A\n",
              "2  amitabh         A\n",
              "3     arti         A\n",
              "4     lata         A\n",
              "5     modi         P\n",
              "6  sandeep         P\n",
              "7   savita         P\n",
              "8    tarun         A\n",
              "9    vimal         A"
            ]
          },
          "metadata": {
            "tags": []
          },
          "execution_count": 110
        }
      ]
    }
  ]
}